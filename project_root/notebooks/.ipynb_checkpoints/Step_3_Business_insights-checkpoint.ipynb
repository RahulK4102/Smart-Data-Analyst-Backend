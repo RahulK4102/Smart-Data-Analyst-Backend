{
 "cells": [
  {
   "cell_type": "code",
   "execution_count": 1,
   "id": "7e00c5a7-7393-4e1c-b63c-55aa9c4fc451",
   "metadata": {},
   "outputs": [],
   "source": [
    "import torch\n",
    "from transformers import pipeline\n",
    "import pandas as pd"
   ]
  },
  {
   "cell_type": "code",
   "execution_count": 2,
   "id": "97b82586-4148-4bfa-a8d5-b0bf7ca148f3",
   "metadata": {},
   "outputs": [],
   "source": [
    "def extract_business_insight(df, user_description=None):\n",
    "    classifier = pipeline(\"zero-shot-classification\", model=\"facebook/bart-large-mnli\")\n",
    "    \n",
    "    candidate_labels = [\"Financial data\", \"Retail data\", \"Stock data\", \"Inventory data\", \"Healthcare data\", \"Marketing data\"]\n",
    "    \n",
    "    columns_text = \" \".join(df.columns)\n",
    "    model_prediction = classifier(columns_text, candidate_labels)\n",
    "    \n",
    "    if user_description:\n",
    "        description_prediction = classifier(user_description, candidate_labels)\n",
    "        \n",
    "        combined_scores = {}\n",
    "        \n",
    "        for label in candidate_labels:\n",
    "            combined_scores[label] = (0.6 * description_prediction[\"scores\"][description_prediction[\"labels\"].index(label)] +\n",
    "                                      0.4 * model_prediction[\"scores\"][model_prediction[\"labels\"].index(label)])\n",
    "        \n",
    "        final_prediction = max(combined_scores, key=combined_scores.get)\n",
    "    else:\n",
    "        \n",
    "        final_prediction = model_prediction[\"labels\"][0]\n",
    "    \n",
    "    \n",
    "    return final_prediction"
   ]
  },
  {
   "cell_type": "code",
   "execution_count": 3,
   "id": "6fba3c2e-5a2f-41c4-a95f-54f5cec37092",
   "metadata": {},
   "outputs": [],
   "source": [
    "dataset_path = r\"C:\\Users\\VANSH JK\\Desktop\\Temp\\Project\\project_root\\data\\Online Retail.xlsx\"\n",
    "df = pd.read_excel(dataset_path)"
   ]
  },
  {
   "cell_type": "code",
   "execution_count": 4,
   "id": "6734189f-4626-4b91-bd38-5147c84b20db",
   "metadata": {},
   "outputs": [
    {
     "name": "stdin",
     "output_type": "stream",
     "text": [
      "User Description This Online Retail II data set contains all the transactions occurring for a UK-based and registered, non-store online retail between 01/12/2009 and 09/12/2011.The company mainly sells unique all-occasion gift-ware. Many customers of the company are wholesalers.\n"
     ]
    }
   ],
   "source": [
    "user_description = input(\"User Description\")"
   ]
  },
  {
   "cell_type": "code",
   "execution_count": 5,
   "id": "b15a8974-34e4-40dc-a2e7-037ab550ceff",
   "metadata": {},
   "outputs": [
    {
     "name": "stdout",
     "output_type": "stream",
     "text": [
      "WARNING:tensorflow:From C:\\ProgramData\\miniconda3\\envs\\env\\Lib\\site-packages\\tf_keras\\src\\losses.py:2976: The name tf.losses.sparse_softmax_cross_entropy is deprecated. Please use tf.compat.v1.losses.sparse_softmax_cross_entropy instead.\n",
      "\n"
     ]
    },
    {
     "name": "stderr",
     "output_type": "stream",
     "text": [
      "C:\\ProgramData\\miniconda3\\envs\\env\\Lib\\site-packages\\transformers\\tokenization_utils_base.py:1601: FutureWarning: `clean_up_tokenization_spaces` was not set. It will be set to `True` by default. This behavior will be depracted in transformers v4.45, and will be then set to `False` by default. For more details check this issue: https://github.com/huggingface/transformers/issues/31884\n",
      "  warnings.warn(\n"
     ]
    },
    {
     "name": "stdout",
     "output_type": "stream",
     "text": [
      "Final business insight prediction: Retail data\n"
     ]
    }
   ],
   "source": [
    "business_insight = extract_business_insight(df, user_description)\n",
    "print(\"Final business insight prediction:\", business_insight)"
   ]
  },
  {
   "cell_type": "code",
   "execution_count": 10,
   "id": "f308a266-6914-488c-ae46-77fa38e2df08",
   "metadata": {},
   "outputs": [],
   "source": [
    "output_path =  r\"C:/Users/VANSH JK/Desktop/Temp/Project/project_root/outputs/Business_Insight.txt\"\n",
    "with open(output_path, \"w\") as file:\n",
    "    file.write(business_insight)"
   ]
  },
  {
   "cell_type": "code",
   "execution_count": null,
   "id": "76ed6889-88c7-4bf8-99bf-fdef74389fe5",
   "metadata": {},
   "outputs": [],
   "source": []
  }
 ],
 "metadata": {
  "kernelspec": {
   "display_name": "Python 3 (ipykernel)",
   "language": "python",
   "name": "python3"
  },
  "language_info": {
   "codemirror_mode": {
    "name": "ipython",
    "version": 3
   },
   "file_extension": ".py",
   "mimetype": "text/x-python",
   "name": "python",
   "nbconvert_exporter": "python",
   "pygments_lexer": "ipython3",
   "version": "3.12.2"
  }
 },
 "nbformat": 4,
 "nbformat_minor": 5
}
